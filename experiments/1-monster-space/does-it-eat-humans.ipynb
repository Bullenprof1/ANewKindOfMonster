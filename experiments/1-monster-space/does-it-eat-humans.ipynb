{
 "cells": [
  {
   "cell_type": "code",
   "execution_count": 26,
   "metadata": {},
   "outputs": [],
   "source": [
    "import numpy as np\n",
    "\n",
    "def loadGloveModel(File):\n",
    "    print(\"Loading Glove Model\")\n",
    "    f = open(File,'r', encoding='utf-8')\n",
    "    gloveModel = {}\n",
    "    for line in f:\n",
    "        splitLines = line.split()\n",
    "        word = splitLines[0]\n",
    "        wordEmbedding = np.array([float(value) for value in splitLines[1:]])\n",
    "        gloveModel[word] = wordEmbedding\n",
    "    print(len(gloveModel),\" words loaded!\")\n",
    "    return gloveModel"
   ]
  },
  {
   "cell_type": "code",
   "execution_count": 28,
   "metadata": {},
   "outputs": [
    {
     "name": "stdout",
     "output_type": "stream",
     "text": [
      "Loading Glove Model\n",
      "400000  words loaded!\n"
     ]
    }
   ],
   "source": [
    "glove = loadGloveModel('c:\\pfd\\glove.6B.100d.txt')"
   ]
  },
  {
   "cell_type": "code",
   "execution_count": 72,
   "metadata": {},
   "outputs": [],
   "source": [
    "from os import listdir\n",
    "from os.path import isfile, join\n",
    "\n",
    "spiderDir = 'C:\\\\Users\\\\peter\\\\Google Drive\\\\local\\\\sw\\\\ANewKindOfMonster\\\\experiments\\\\1-monster-space\\\\spider-pages-depth-1'\n",
    "spiderfiles = [f for f in listdir(spiderDir) if isfile(join(spiderDir, f))]"
   ]
  },
  {
   "cell_type": "code",
   "execution_count": 73,
   "metadata": {},
   "outputs": [
    {
     "name": "stdout",
     "output_type": "stream",
     "text": [
      "12961\n",
      "814\n"
     ]
    }
   ],
   "source": [
    "inGlove = 0\n",
    "nonGlove=0\n",
    "for w in words:\n",
    "    lc = w.lower()\n",
    "    if lc in glove:\n",
    "        inGlove += 1\n",
    "    else:\n",
    "        nonGlove += 1\n",
    "        # print(lc)\n",
    "print(inGlove)\n",
    "print(nonGlove)\n"
   ]
  },
  {
   "cell_type": "code",
   "execution_count": 88,
   "metadata": {},
   "outputs": [],
   "source": [
    "#conceptVec = glove['he'] + glove['eats'] + glove['humans']\n",
    "#conceptVec = glove['it'] + glove['kills'] + glove['people']\n",
    "#conceptVec = glove['it'] + glove['terrifies'] + glove['people']\n",
    "#conceptVec = glove['thing'] + glove['fights'] + glove['heros']\n",
    "conceptVec = glove['creature'] + glove['eats'] + glove['people']\n",
    "conceptVec /= 3\n"
   ]
  },
  {
   "cell_type": "code",
   "execution_count": 89,
   "metadata": {
    "scrolled": false
   },
   "outputs": [
    {
     "name": "stdout",
     "output_type": "stream",
     "text": [
      "New min dist:  4.6035598707300975   -   101 Names of God.txt   -   part of a\n",
      "New min dist:  4.212083357128874   -   101 Names of God.txt   -   series on zoroastrianism\n",
      "New min dist:  4.105486280120573   -   101 Names of God.txt   -   symbol of zoroastrianism\n",
      "New min dist:  3.784870698483138   -   101 Names of God.txt   -   mainyu scripture and\n",
      "New min dist:  3.563192908802889   -   101 Names of God.txt   -   story of sanjan\n",
      "New min dist:  3.5180443109208506   -   101 Names of God.txt   -   and culture zurvanism\n",
      "New min dist:  3.4287900485201392   -   101 Names of God.txt   -   being attuned ;\n",
      "New min dist:  3.3625774662938244   -   101 Names of God.txt   -   bountiful one creator\n",
      "New min dist:  3.263246456996057   -   101 Names of God.txt   -   who reaches everyone\n",
      "New min dist:  3.219460567942552   -   101 Names of God.txt   -   reaches everyone equally\n",
      "New min dist:  3.1802827434588345   -   101 Names of God.txt   -   beyond affliction mysterious\n",
      "New min dist:  3.165473294886657   -   101 Names of God.txt   -   affliction mysterious 36\n",
      "New min dist:  3.0617894728141306   -   101 Names of God.txt   -   much invisible creations\n",
      "New min dist:  3.0244809449004477   -   101 Names of God.txt   -   everywhere who creates\n",
      "New min dist:  2.9114686543197887   -   A Book of Dragons.txt   -   cats and creatures\n",
      "New min dist:  2.8285389114623305   -   Additions to Daniel.txt   -   consume sacrifices is\n",
      "New min dist:  2.7558281836130125   -   Adrienne Mayor.txt   -   other fabulous beings\n",
      "New min dist:  2.6254992611412113   -   Alligator.txt   -   hard-shelled animals that\n",
      "New min dist:  2.5948212742865   -   Alligator.txt   -   eats see also\n",
      "New min dist:  2.417638379195404   -   Angra Mainyu.txt   -   the dying creature\n",
      "New min dist:  2.2266350453696893   -   Angra Mainyu.txt   -   dying creature ,\n",
      "New min dist:  2.1990380594130525   -   Bakunawa.txt   -   creature devouring all\n",
      "New min dist:  2.114434149735224   -   Ogre.txt   -   that eats ordinary\n"
     ]
    }
   ],
   "source": [
    "minDist = 1000000\n",
    "for file in spiderfiles:\n",
    "    filename = spiderDir + \"\\\\\" + file\n",
    "    \n",
    "    with open(filename, 'r', encoding='utf-8') as text:\n",
    "        content = text.read()\n",
    "    \n",
    "    words = word_tokenize(content)\n",
    "    \n",
    "    for index,word in enumerate(words):\n",
    "        if index < len(words)-3:\n",
    "            w1 = words[index].lower()\n",
    "            w2 = words[index+1].lower()\n",
    "            w3 = words[index+2].lower()\n",
    "            if (w1 in glove) & (w2 in glove) & (w3 in glove):\n",
    "                vec = glove[w1] + glove[w2] + glove[w3]\n",
    "                vec /= 3\n",
    "                dist = np.linalg.norm(vec-conceptVec)\n",
    "                if (dist < minDist):\n",
    "                    print('New min dist: ', dist, '  -  ', file, '  -  ', w1, w2, w3)\n",
    "                    minDist = dist\n",
    "                if (dist < 2.0):\n",
    "                    print('decent hit: ', dist, '  -  ', file, '  -  ', w1, w2, w3)\n",
    "                    "
   ]
  },
  {
   "cell_type": "code",
   "execution_count": 90,
   "metadata": {},
   "outputs": [],
   "source": [
    "#conceptVec = glove['giant'] + glove['creature'] + glove['eats'] + glove['people']\n",
    "conceptVec = glove['giant'] + glove['creature'] + glove['kills'] + glove['people']\n",
    "conceptVec /= 4"
   ]
  },
  {
   "cell_type": "code",
   "execution_count": 91,
   "metadata": {},
   "outputs": [
    {
     "name": "stdout",
     "output_type": "stream",
     "text": [
      "New min dist:  3.9287600146414166   -   101 Names of God.txt   -   part of a series\n",
      "New min dist:  3.590235717264496   -   101 Names of God.txt   -   a series on zoroastrianism\n",
      "New min dist:  3.5718694040777397   -   101 Names of God.txt   -   fire ) , a\n",
      "New min dist:  3.535985664761041   -   101 Names of God.txt   -   , a primary symbol\n",
      "New min dist:  3.3432741552779324   -   101 Names of God.txt   -   fire temples 101 names\n",
      "New min dist:  3.300887611552998   -   101 Names of God.txt   -   hasht '' ( eight\n",
      "New min dist:  3.2775371661921495   -   101 Names of God.txt   -   , one by meher\n",
      "New min dist:  3.245534809498066   -   101 Names of God.txt   -   cause ancient cause 10\n",
      "New min dist:  3.1546593022857037   -   101 Names of God.txt   -   unreachable by anyone 15\n",
      "New min dist:  3.09089436627713   -   101 Names of God.txt   -   who reaches everyone equally\n",
      "New min dist:  3.001058113818192   -   101 Names of God.txt   -   reaches everyone equally 23\n",
      "New min dist:  2.851157378251984   -   101 Names of God.txt   -   beyond affliction mysterious 36\n",
      "New min dist:  2.837189362131656   -   A Book of Dragons.txt   -   of cats and creatures\n",
      "New min dist:  2.7964338530233506   -   A Book of Dragons.txt   -   dead link ] a\n",
      "New min dist:  2.6388272889629736   -   Aeëtes.txt   -   kill the sleepless dragon\n",
      "New min dist:  2.5549228833155273   -   Albanian mythology.txt   -   snake , half woman\n",
      "New min dist:  2.4495568342082565   -   Albanian mythology.txt   -   ( man eating giant\n",
      "New min dist:  2.41600881099589   -   Albanian mythology.txt   -   man eating giant )\n",
      "New min dist:  2.1892037961805   -   Albanian mythology.txt   -   one , man-eating monster\n",
      "New min dist:  2.156793021000171   -   Beowulf.txt   -   hero kills the monster\n",
      "New min dist:  2.1306416002089144   -   Beowulf.txt   -   kills the monster —\n",
      "New min dist:  1.9064292467489308   -   Heracles.txt   -   certain lion giant killed\n",
      "decent hit:  1.9064292467489308   -   Heracles.txt   -   certain lion giant killed\n"
     ]
    }
   ],
   "source": [
    "minDist = 1000000\n",
    "for file in spiderfiles:\n",
    "    filename = spiderDir + \"\\\\\" + file\n",
    "    \n",
    "    with open(filename, 'r', encoding='utf-8') as text:\n",
    "        content = text.read()\n",
    "    \n",
    "    words = word_tokenize(content)\n",
    "    \n",
    "    for index,word in enumerate(words):\n",
    "        if index < len(words)-4:\n",
    "            w1 = words[index].lower()\n",
    "            w2 = words[index+1].lower()\n",
    "            w3 = words[index+2].lower()\n",
    "            w4 = words[index+3].lower()\n",
    "            if (w1 in glove) & (w2 in glove) & (w3 in glove) & (w4 in glove):\n",
    "                vec = glove[w1] + glove[w2] + glove[w3] + glove[w4]\n",
    "                vec /= 4\n",
    "                dist = np.linalg.norm(vec-conceptVec)\n",
    "                if (dist < minDist):\n",
    "                    print('New min dist: ', dist, '  -  ', file, '  -  ', w1, w2, w3, w4)\n",
    "                    minDist = dist\n",
    "                if (dist < 2.0):\n",
    "                    print('decent hit: ', dist, '  -  ', file, '  -  ', w1, w2, w3, w4)"
   ]
  },
  {
   "cell_type": "code",
   "execution_count": null,
   "metadata": {},
   "outputs": [],
   "source": []
  }
 ],
 "metadata": {
  "kernelspec": {
   "display_name": "Python 3",
   "language": "python",
   "name": "python3"
  },
  "language_info": {
   "codemirror_mode": {
    "name": "ipython",
    "version": 3
   },
   "file_extension": ".py",
   "mimetype": "text/x-python",
   "name": "python",
   "nbconvert_exporter": "python",
   "pygments_lexer": "ipython3",
   "version": "3.8.5"
  }
 },
 "nbformat": 4,
 "nbformat_minor": 4
}
